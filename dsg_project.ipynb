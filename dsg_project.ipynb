{
 "cells": [
  {
   "cell_type": "code",
   "execution_count": 6,
   "id": "41a3d9c7-c37a-498e-9184-a86a5039ad58",
   "metadata": {},
   "outputs": [],
   "source": [
    "import numpy as np\n",
    "import yfinance as yf\n",
    "import pandas as pd\n",
    "import matplotlib.pyplot as plt"
   ]
  },
  {
   "cell_type": "code",
   "execution_count": 7,
   "id": "54dfeb9f-f77c-4fab-992c-56d377b577b7",
   "metadata": {},
   "outputs": [],
   "source": [
    "def geometric_brownian_motion(S0,T,dt,mu,sigma):\n",
    "    N=int(T/dt)\n",
    "    t = np.linspace(0, T, N)\n",
    "    W = np.cumsum(np.random.normal(0, np.sqrt(dt), size=N))  # Wiener process\n",
    "    S = S0 * np.exp((mu - 0.5 * sigma**2) * t + sigma * W)\n",
    "    print(S)\n",
    "    return t, S\n",
    "    "
   ]
  },
  {
   "cell_type": "code",
   "execution_count": 8,
   "id": "a4364a47-e716-47d3-8bda-6528874ad48f",
   "metadata": {},
   "outputs": [],
   "source": [
    "def fetch_stock_data(ticker, start_date, end_date):\n",
    "    try: \n",
    "        data = yf.download(ticker, start_date, end_date)\n",
    "        return data[['Open', 'High', 'Low', 'Close', 'Volume']]\n",
    "    except Exception as e:\n",
    "        print(f\"Error fetching data: {e}\")\n",
    "        return pd.DataFrame()"
   ]
  },
  {
   "cell_type": "code",
   "execution_count": 9,
   "id": "7e3e2b82-ee52-4c07-ad0b-69894973c389",
   "metadata": {},
   "outputs": [],
   "source": [
    "if __name__ == \"__main__\":\n",
    "    ticker = input(\"Enter the stock ticker symbol (e.g., AAPL): \")\n",
    "    start_date = input(\"Enter the start date (YYYY-MM-DD): \")\n",
    "    end_date = input(\"Enter the end date (YYYY-MM-DD): \")"
   ]
  },
  {
   "cell_type": "code",
   "execution_count": 10,
   "id": "06ea7d47-7170-4187-bedb-87b4bc9df32a",
   "metadata": {},
   "outputs": [
    {
     "name": "stderr",
     "output_type": "stream",
     "text": [
      "[*********************100%***********************]  1 of 1 completed\n",
      "\n",
      "1 Failed download:\n",
      "['AAPL']: ConnectionError(ProtocolError('Connection aborted.', RemoteDisconnected('Remote end closed connection without response')))\n"
     ]
    },
    {
     "name": "stdout",
     "output_type": "stream",
     "text": [
      "No valid data to process. Exiting.\n"
     ]
    }
   ],
   "source": [
    "stock_data = fetch_stock_data(ticker, start_date, end_date)\n",
    "if stock_data.empty:\n",
    "        print(\"No valid data to process. Exiting.\")\n",
    "else:\n",
    "        close_prices = stock_data['Close']"
   ]
  },
  {
   "cell_type": "code",
   "execution_count": 11,
   "id": "f51897b8",
   "metadata": {},
   "outputs": [
    {
     "name": "stdout",
     "output_type": "stream",
     "text": [
      "<class 'pandas.core.frame.DataFrame'>\n",
      "DatetimeIndex: 0 entries\n",
      "Data columns (total 5 columns):\n",
      " #   Column          Non-Null Count  Dtype  \n",
      "---  ------          --------------  -----  \n",
      " 0   (Open, AAPL)    0 non-null      float64\n",
      " 1   (High, AAPL)    0 non-null      float64\n",
      " 2   (Low, AAPL)     0 non-null      float64\n",
      " 3   (Close, AAPL)   0 non-null      float64\n",
      " 4   (Volume, AAPL)  0 non-null      float64\n",
      "dtypes: float64(5)\n",
      "memory usage: 0.0 bytes\n"
     ]
    }
   ],
   "source": [
    "stock_data.info()"
   ]
  },
  {
   "cell_type": "code",
   "execution_count": 12,
   "id": "e7bba973",
   "metadata": {},
   "outputs": [
    {
     "data": {
      "text/html": [
       "<div>\n",
       "<style scoped>\n",
       "    .dataframe tbody tr th:only-of-type {\n",
       "        vertical-align: middle;\n",
       "    }\n",
       "\n",
       "    .dataframe tbody tr th {\n",
       "        vertical-align: top;\n",
       "    }\n",
       "\n",
       "    .dataframe thead tr th {\n",
       "        text-align: left;\n",
       "    }\n",
       "</style>\n",
       "<table border=\"1\" class=\"dataframe\">\n",
       "  <thead>\n",
       "    <tr>\n",
       "      <th>Price</th>\n",
       "      <th>Open</th>\n",
       "      <th>High</th>\n",
       "      <th>Low</th>\n",
       "      <th>Close</th>\n",
       "      <th>Volume</th>\n",
       "    </tr>\n",
       "    <tr>\n",
       "      <th>Ticker</th>\n",
       "      <th>AAPL</th>\n",
       "      <th>AAPL</th>\n",
       "      <th>AAPL</th>\n",
       "      <th>AAPL</th>\n",
       "      <th>AAPL</th>\n",
       "    </tr>\n",
       "  </thead>\n",
       "  <tbody>\n",
       "    <tr>\n",
       "      <th>count</th>\n",
       "      <td>0.0</td>\n",
       "      <td>0.0</td>\n",
       "      <td>0.0</td>\n",
       "      <td>0.0</td>\n",
       "      <td>0.0</td>\n",
       "    </tr>\n",
       "    <tr>\n",
       "      <th>mean</th>\n",
       "      <td>NaN</td>\n",
       "      <td>NaN</td>\n",
       "      <td>NaN</td>\n",
       "      <td>NaN</td>\n",
       "      <td>NaN</td>\n",
       "    </tr>\n",
       "    <tr>\n",
       "      <th>std</th>\n",
       "      <td>NaN</td>\n",
       "      <td>NaN</td>\n",
       "      <td>NaN</td>\n",
       "      <td>NaN</td>\n",
       "      <td>NaN</td>\n",
       "    </tr>\n",
       "    <tr>\n",
       "      <th>min</th>\n",
       "      <td>NaN</td>\n",
       "      <td>NaN</td>\n",
       "      <td>NaN</td>\n",
       "      <td>NaN</td>\n",
       "      <td>NaN</td>\n",
       "    </tr>\n",
       "    <tr>\n",
       "      <th>25%</th>\n",
       "      <td>NaN</td>\n",
       "      <td>NaN</td>\n",
       "      <td>NaN</td>\n",
       "      <td>NaN</td>\n",
       "      <td>NaN</td>\n",
       "    </tr>\n",
       "    <tr>\n",
       "      <th>50%</th>\n",
       "      <td>NaN</td>\n",
       "      <td>NaN</td>\n",
       "      <td>NaN</td>\n",
       "      <td>NaN</td>\n",
       "      <td>NaN</td>\n",
       "    </tr>\n",
       "    <tr>\n",
       "      <th>75%</th>\n",
       "      <td>NaN</td>\n",
       "      <td>NaN</td>\n",
       "      <td>NaN</td>\n",
       "      <td>NaN</td>\n",
       "      <td>NaN</td>\n",
       "    </tr>\n",
       "    <tr>\n",
       "      <th>max</th>\n",
       "      <td>NaN</td>\n",
       "      <td>NaN</td>\n",
       "      <td>NaN</td>\n",
       "      <td>NaN</td>\n",
       "      <td>NaN</td>\n",
       "    </tr>\n",
       "  </tbody>\n",
       "</table>\n",
       "</div>"
      ],
      "text/plain": [
       "Price  Open High  Low Close Volume\n",
       "Ticker AAPL AAPL AAPL  AAPL   AAPL\n",
       "count   0.0  0.0  0.0   0.0    0.0\n",
       "mean    NaN  NaN  NaN   NaN    NaN\n",
       "std     NaN  NaN  NaN   NaN    NaN\n",
       "min     NaN  NaN  NaN   NaN    NaN\n",
       "25%     NaN  NaN  NaN   NaN    NaN\n",
       "50%     NaN  NaN  NaN   NaN    NaN\n",
       "75%     NaN  NaN  NaN   NaN    NaN\n",
       "max     NaN  NaN  NaN   NaN    NaN"
      ]
     },
     "execution_count": 12,
     "metadata": {},
     "output_type": "execute_result"
    }
   ],
   "source": [
    "stock_data.describe()"
   ]
  },
  {
   "cell_type": "code",
   "execution_count": 13,
   "id": "fee36482-5e8a-41a0-8d74-f5393564dae9",
   "metadata": {},
   "outputs": [
    {
     "ename": "NameError",
     "evalue": "name 'close_prices' is not defined",
     "output_type": "error",
     "traceback": [
      "\u001b[1;31m---------------------------------------------------------------------------\u001b[0m",
      "\u001b[1;31mNameError\u001b[0m                                 Traceback (most recent call last)",
      "Cell \u001b[1;32mIn[13], line 2\u001b[0m\n\u001b[0;32m      1\u001b[0m plt\u001b[38;5;241m.\u001b[39mfigure(figsize\u001b[38;5;241m=\u001b[39m(\u001b[38;5;241m10\u001b[39m, \u001b[38;5;241m6\u001b[39m))\n\u001b[1;32m----> 2\u001b[0m \u001b[43mclose_prices\u001b[49m\u001b[38;5;241m.\u001b[39mplot(title\u001b[38;5;241m=\u001b[39m\u001b[38;5;124mf\u001b[39m\u001b[38;5;124m\"\u001b[39m\u001b[38;5;124mHistorical Stock Prices for \u001b[39m\u001b[38;5;132;01m{\u001b[39;00mticker\u001b[38;5;132;01m}\u001b[39;00m\u001b[38;5;124m\"\u001b[39m)\n\u001b[0;32m      3\u001b[0m plt\u001b[38;5;241m.\u001b[39mxlabel(\u001b[38;5;124m\"\u001b[39m\u001b[38;5;124mTime\u001b[39m\u001b[38;5;124m\"\u001b[39m)\n\u001b[0;32m      4\u001b[0m plt\u001b[38;5;241m.\u001b[39mylabel(\u001b[38;5;124m\"\u001b[39m\u001b[38;5;124mPrice\u001b[39m\u001b[38;5;124m\"\u001b[39m)\n",
      "\u001b[1;31mNameError\u001b[0m: name 'close_prices' is not defined"
     ]
    },
    {
     "data": {
      "text/plain": [
       "<Figure size 1000x600 with 0 Axes>"
      ]
     },
     "metadata": {},
     "output_type": "display_data"
    }
   ],
   "source": [
    "plt.figure(figsize=(10, 6))\n",
    "close_prices.plot(title=f\"Historical Stock Prices for {ticker}\", label=\"Actual Prices\")\n",
    "plt.xlabel(\"Time\")\n",
    "plt.ylabel(\"Price\")\n",
    "plt.grid()\n",
    "plt.legend()\n",
    "plt.show()\n"
   ]
  },
  {
   "cell_type": "code",
   "execution_count": 31,
   "id": "9b5d9b2e-599f-4145-bdff-894b081c26a4",
   "metadata": {},
   "outputs": [
    {
     "name": "stderr",
     "output_type": "stream",
     "text": [
      "C:\\Users\\Lenovo\\AppData\\Local\\Temp\\ipykernel_22416\\81815143.py:1: FutureWarning: Calling float on a single element Series is deprecated and will raise a TypeError in the future. Use float(ser.iloc[0]) instead\n",
      "  S0 = float(close_prices.iloc[-1])  # Last known price\n"
     ]
    }
   ],
   "source": [
    "S0 = float(close_prices.iloc[-1])  # Last known price\n",
    "T = 1  # Time period in years\n",
    "dt = 1 / 252  # Daily time step (assuming 252 trading days/year)"
   ]
  },
  {
   "cell_type": "code",
   "execution_count": 32,
   "id": "5925e783-9232-454d-b03e-1f83da728e0e",
   "metadata": {},
   "outputs": [
    {
     "name": "stdout",
     "output_type": "stream",
     "text": [
      "Drift coefficient (mu): 0.34921160189149497\n",
      "Volatility (sigma): 0.21292588503131893\n"
     ]
    }
   ],
   "source": [
    "stock_data['Log Returns'] = np.log(stock_data['Close'] / stock_data['Close'].shift(1))\n",
    "mu = stock_data['Log Returns'].mean() * 252  # Annualized daily log return\n",
    "sigma = stock_data['Log Returns'].std() * np.sqrt(252)  # Annualized volatility\n",
    "\n",
    "print(f\"Drift coefficient (mu): {mu:}\")\n",
    "print(f\"Volatility (sigma): {sigma:}\")"
   ]
  },
  {
   "cell_type": "code",
   "execution_count": 33,
   "id": "751615b9-66fa-4817-868e-3f95ee92e7bf",
   "metadata": {},
   "outputs": [
    {
     "name": "stdout",
     "output_type": "stream",
     "text": [
      "[252.55273742 249.12873907 249.12762779 246.88013641 244.24646809\n",
      " 243.70914173 242.47921668 238.88170631 232.81665056 230.48810485\n",
      " 233.19720627 235.71399393 239.74681767 237.67297782 235.31452595\n",
      " 235.44155523 234.13103647 234.82670389 235.67534588 231.03757893\n",
      " 229.69868304 227.45231354 231.74713473 231.14638949 234.08556395\n",
      " 235.42434321 237.92776549 236.01307411 238.79587894 242.53192919\n",
      " 238.18591666 237.12948325 240.12250719 244.12884084 246.41204709\n",
      " 250.95551113 249.24339801 246.97669458 250.88625685 257.36214023\n",
      " 265.92253983 266.8282604  263.35034368 264.23439431 263.62584437\n",
      " 254.84373881 254.25049991 259.67149811 257.1314437  257.97716918\n",
      " 257.23106168 262.02272969 266.29528797 266.45810042 268.1147641\n",
      " 273.97828148 280.98744455 282.29545983 281.78830395 285.48562966\n",
      " 285.75360603 282.43395119 284.61333843 287.2517181  280.66174769\n",
      " 286.2171081  289.27672178 293.77063078 293.83894108 291.50312751\n",
      " 293.16772853 297.92595291 297.20898938 295.66284554 302.02211894\n",
      " 298.99034257 299.26111718 293.81993926 286.96660645 283.20306064\n",
      " 282.56036366 287.1398697  285.75019606 285.43068139 285.9162542\n",
      " 293.70962594 289.21375892 290.19497577 290.15421763 293.4212622\n",
      " 295.15463134 300.10843671 296.49766141 291.41087925 291.52732944\n",
      " 293.3066837  300.73434908 296.01702051 297.6794361  301.77116213\n",
      " 302.17037983 305.43326028 306.89514038 308.72121041 310.29894175\n",
      " 312.0698234  313.52182056 319.84067166 315.77105124 316.73627893\n",
      " 311.42177752 310.07440226 308.98648277 311.54801921 310.21224531\n",
      " 315.12518369 319.24013875 311.01411257 310.26073233 300.27414044\n",
      " 304.95478962 307.20086239 304.27935236 303.52571179 305.01633709\n",
      " 301.45936087 311.38732815 311.90859112 308.47750545 302.53173293\n",
      " 295.59842866 295.54078327 297.67922153 299.39539037 295.75650958\n",
      " 293.72753659 298.14762561 294.31047804 292.43285402 286.74937685\n",
      " 289.29273634 293.87964195 297.64303566 293.63574873 292.19917167\n",
      " 289.54293343 290.85813276 292.02493289 289.9087488  291.66200563\n",
      " 290.42267962 290.39172991 292.01558474 290.03182054 290.7305169\n",
      " 288.89141379 292.19221665 290.8453667  290.14833849 291.84020224\n",
      " 294.26615226 294.94673891 299.77093927 299.55853563 294.01621988\n",
      " 296.76361901 300.21504643 300.63816033 308.61332015 305.53069592\n",
      " 303.56158609 304.26414438 306.35600418 308.27645142 305.5097931\n",
      " 304.4776479  292.55110006 285.9212266  291.78383668 298.52269378\n",
      " 299.91053778 308.29340591 310.13134847 311.01442543 309.305056\n",
      " 309.1216832  311.65002916 314.40913028 320.97194111 314.56893111\n",
      " 314.83138181 321.25816426 325.75380674 320.35059658 329.88036304\n",
      " 327.21632384 321.1981408  314.39261879 311.49141686 314.47986238\n",
      " 321.93463803 321.86523673 316.59485847 318.64618124 313.35693834\n",
      " 305.00853963 302.75340524 297.26803077 297.71785477 297.2065822\n",
      " 289.68731086 285.91343379 291.64333468 289.60004392 296.17984306\n",
      " 296.06862796 305.85134843 301.16941926 296.43149404 308.25721742\n",
      " 303.06950802 306.77301088 300.09394924 302.99231498 304.25993769\n",
      " 297.55577682 299.53457994 297.09537725 299.01823976 303.24479951\n",
      " 309.48983034 311.2170765  310.29048592 316.88667334 315.7691229\n",
      " 319.59512295 317.34973196 323.21023754 325.90276781 334.94358918\n",
      " 330.68309082 322.7080692  322.08974717 318.16322803 322.16774655\n",
      " 315.1074324  308.52305662 321.52228224 319.79002267 323.87893111\n",
      " 323.69194013 322.79576237]\n"
     ]
    }
   ],
   "source": [
    "t, simulated_prices = geometric_brownian_motion(S0, T, dt, mu, sigma)"
   ]
  },
  {
   "cell_type": "code",
   "execution_count": 34,
   "id": "39980435",
   "metadata": {},
   "outputs": [
    {
     "name": "stdout",
     "output_type": "stream",
     "text": [
      "Last known price: 250.4199981689453\n"
     ]
    }
   ],
   "source": [
    "print(f\"Last known price: {S0}\")"
   ]
  },
  {
   "cell_type": "code",
   "execution_count": 35,
   "id": "842c274a-6eba-4498-bb0a-bb4c6000d6f4",
   "metadata": {},
   "outputs": [
    {
     "data": {
      "image/png": "[encoded data removed]",
      "text/plain": [
       "<Figure size 1000x600 with 1 Axes>"
      ]
     },
     "metadata": {},
     "output_type": "display_data"
    }
   ],
   "source": [
    "plt.figure(figsize=(10, 6))\n",
    "plt.plot(t, simulated_prices, label=\"Simulated Prices\", color='orange')\n",
    "plt.title(f\"Simulated Stock Prices for {ticker} (Next Year)\")\n",
    "plt.xlabel(\"Time (Years)\")\n",
    "plt.ylabel(\"Price\")\n",
    "plt.grid()\n",
    "plt.legend()\n",
    "plt.show()"
   ]
  }
 ],
 "metadata": {
  "kernelspec": {
   "display_name": "Python 3",
   "language": "python",
   "name": "python3"
  },
  "language_info": {
   "codemirror_mode": {
    "name": "ipython",
    "version": 3
   },
   "file_extension": ".py",
   "mimetype": "text/x-python",
   "name": "python",
   "nbconvert_exporter": "python",
   "pygments_lexer": "ipython3",
   "version": "3.13.1"
  }
 },
 "nbformat": 4,
 "nbformat_minor": 5
}
